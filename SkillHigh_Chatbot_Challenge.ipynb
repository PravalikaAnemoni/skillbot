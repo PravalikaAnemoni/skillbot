{
 "cells": [
  {
   "cell_type": "markdown",
   "id": "4fc131c8",
   "metadata": {},
   "source": [
    "# SkillHigh AI/ML Chatbot Challenge\n",
    "Welcome! This notebook guides you through designing and developing an AI-powered chatbot for SkillHigh using machine learning and NLP techniques.\n",
    "\n",
    "**Outline:**\n",
    "1. Import Required Libraries\n",
    "2. Load and Explore Training Data\n",
    "3. Preprocess Text Data\n",
    "4. Build and Train NLP Model\n",
    "5. Implement Intent Recognition and Response Generation\n",
    "6. Design Greeting and Onboarding Flow\n",
    "7. Answer FAQs and Handle Small Talk\n",
    "8. Session Context and Sentiment Analysis (Optional)\n",
    "9. Multilingual Support (Optional)\n",
    "10. Expose Chatbot via API (Integration-ready)\n",
    "11. Demo: Chatbot Interaction in Notebook\n",
    "12. Usage Analytics Dashboard (Optional)"
   ]
  },
  {
   "cell_type": "markdown",
   "id": "ba366a05",
   "metadata": {},
   "source": [
    "## 1. Import Required Libraries\n",
    "Import Python libraries for NLP, machine learning, data handling, and web/API integration."
   ]
  },
  {
   "cell_type": "code",
   "execution_count": 4,
   "id": "6173b689",
   "metadata": {},
   "outputs": [
    {
     "ename": "ModuleNotFoundError",
     "evalue": "No module named 'sklearn'",
     "output_type": "error",
     "traceback": [
      "\u001b[31m---------------------------------------------------------------------------\u001b[39m",
      "\u001b[31mModuleNotFoundError\u001b[39m                       Traceback (most recent call last)",
      "\u001b[36mCell\u001b[39m\u001b[36m \u001b[39m\u001b[32mIn[4]\u001b[39m\u001b[32m, line 7\u001b[39m\n\u001b[32m      5\u001b[39m \u001b[38;5;28;01mimport\u001b[39;00m\u001b[38;5;250m \u001b[39m\u001b[34;01mre\u001b[39;00m\n\u001b[32m      6\u001b[39m \u001b[38;5;28;01mimport\u001b[39;00m\u001b[38;5;250m \u001b[39m\u001b[34;01mspacy\u001b[39;00m\n\u001b[32m----> \u001b[39m\u001b[32m7\u001b[39m \u001b[38;5;28;01mfrom\u001b[39;00m\u001b[38;5;250m \u001b[39m\u001b[34;01msklearn\u001b[39;00m\u001b[34;01m.\u001b[39;00m\u001b[34;01mmodel_selection\u001b[39;00m\u001b[38;5;250m \u001b[39m\u001b[38;5;28;01mimport\u001b[39;00m train_test_split\n\u001b[32m      8\u001b[39m \u001b[38;5;28;01mfrom\u001b[39;00m\u001b[38;5;250m \u001b[39m\u001b[34;01msklearn\u001b[39;00m\u001b[34;01m.\u001b[39;00m\u001b[34;01mlinear_model\u001b[39;00m\u001b[38;5;250m \u001b[39m\u001b[38;5;28;01mimport\u001b[39;00m LogisticRegression\n\u001b[32m      9\u001b[39m \u001b[38;5;28;01mfrom\u001b[39;00m\u001b[38;5;250m \u001b[39m\u001b[34;01msklearn\u001b[39;00m\u001b[34;01m.\u001b[39;00m\u001b[34;01mmetrics\u001b[39;00m\u001b[38;5;250m \u001b[39m\u001b[38;5;28;01mimport\u001b[39;00m classification_report\n",
      "\u001b[31mModuleNotFoundError\u001b[39m: No module named 'sklearn'"
     ]
    }
   ],
   "source": [
    "# Import libraries for NLP, ML, data handling, and web/API integration\n",
    "import pandas as pd\n",
    "import numpy as np\n",
    "import json\n",
    "import re\n",
    "import spacy\n",
    "from sklearn.model_selection import train_test_split\n",
    "from sklearn.linear_model import LogisticRegression\n",
    "from sklearn.metrics import classification_report\n",
    "from textblob import TextBlob\n",
    "from transformers import pipeline\n",
    "import flask\n",
    "import streamlit as st"
   ]
  },
  {
   "cell_type": "markdown",
   "id": "2568c49a",
   "metadata": {},
   "source": [
    "## 2. Load and Explore Training Data\n",
    "Load SkillHigh dummy FAQs, course-related text, and curated datasets. Explore and visualize the data to understand its structure and content."
   ]
  },
  {
   "cell_type": "code",
   "execution_count": null,
   "id": "e1581de2",
   "metadata": {},
   "outputs": [],
   "source": [
    "# Load dummy FAQ, course, and internship data\n",
    "with open('data/faqs.json', 'r', encoding='utf-8') as f:\n",
    "    faqs = json.load(f)\n",
    "with open('data/courses.json', 'r', encoding='utf-8') as f:\n",
    "    courses = json.load(f)\n",
    "with open('data/internships.json', 'r', encoding='utf-8') as f:\n",
    "    internships = json.load(f)\n",
    "print('FAQs:', faqs)\n",
    "print('Courses:', courses)\n",
    "print('Internships:', internships)"
   ]
  },
  {
   "cell_type": "markdown",
   "id": "83d966f9",
   "metadata": {},
   "source": [
    "## 3. Preprocess Text Data\n",
    "Clean and preprocess text data: tokenization, lowercasing, stopword removal, lemmatization, and encoding labels/intents."
   ]
  },
  {
   "cell_type": "code",
   "execution_count": null,
   "id": "15cd7ece",
   "metadata": {},
   "outputs": [],
   "source": [
    "# Example preprocessing for FAQ data\n",
    "nlp = spacy.blank('en')\n",
    "def preprocess(text):\n",
    "    doc = nlp(text.lower())\n",
    "    tokens = [token.lemma_ for token in doc if not token.is_stop and not token.is_punct]\n",
    "    return ' '.join(tokens)\n",
    "preprocessed_faqs = {k: preprocess(k) for k in faqs.keys()}\n",
    "print('Preprocessed FAQ keys:', preprocessed_faqs)"
   ]
  },
  {
   "cell_type": "markdown",
   "id": "6bf2a075",
   "metadata": {},
   "source": [
    "## 4. Build and Train NLP Model\n",
    "Select and implement an NLP model (e.g., fine-tune a pre-trained transformer or train a custom classifier) for intent recognition and response generation."
   ]
  },
  {
   "cell_type": "code",
   "execution_count": null,
   "id": "0029e58a",
   "metadata": {},
   "outputs": [],
   "source": [
    "# For demo: Use Hugging Face zero-shot-classification pipeline for intent recognition\n",
    "classifier = pipeline('zero-shot-classification', model='facebook/bart-large-mnli')\n",
    "intents = ['course details', 'pricing', 'internship', 'certification', 'application deadline', 'greeting', 'small talk', 'faq']\n",
    "def predict_intent(query):\n",
    "    result = classifier(query, intents)\n",
    "    return result['labels'][0]\n",
    "# Example\n",
    "print(predict_intent('Tell me about SkillHigh internships'))"
   ]
  },
  {
   "cell_type": "markdown",
   "id": "20018043",
   "metadata": {},
   "source": [
    "## 5. Implement Intent Recognition and Response Generation\n",
    "Write code to predict user intent from queries and generate relevant, accurate responses using the trained model."
   ]
  },
  {
   "cell_type": "code",
   "execution_count": null,
   "id": "9cdfc09e",
   "metadata": {},
   "outputs": [],
   "source": [
    "# Response generation based on predicted intent\n",
    "def generate_response(query):\n",
    "    intent = predict_intent(query)\n",
    "    if intent == 'course details':\n",
    "        return courses\n",
    "    elif intent == 'pricing':\n",
    "        return faqs['pricing']\n",
    "    elif intent == 'internship':\n",
    "        return internships\n",
    "    elif intent == 'certification':\n",
    "        return faqs['certification']\n",
    "    elif intent == 'application deadline':\n",
    "        return faqs['application deadline']\n",
    "    elif intent == 'greeting':\n",
    "        return \"Hi, I'm SkillBot, your course guide!\"\n",
    "    elif intent == 'small talk':\n",
    "        return \"You're welcome! How else can I help you?\"\n",
    "    elif intent == 'faq':\n",
    "        return faqs\n",
    "    else:\n",
    "        return \"Sorry, I didn't understand that. Can you rephrase or ask about courses, internships, or FAQs?\"\n",
    "# Example\n",
    "print(generate_response('What is the fee for Python course?'))"
   ]
  },
  {
   "cell_type": "markdown",
   "id": "2c041985",
   "metadata": {},
   "source": [
    "## 6. Design Greeting and Onboarding Flow\n",
    "Implement chatbot logic for greeting users and guiding them through onboarding steps."
   ]
  },
  {
   "cell_type": "code",
   "execution_count": null,
   "id": "81b7506c",
   "metadata": {},
   "outputs": [],
   "source": [
    "# Greeting and onboarding logic\n",
    "def onboarding_flow():\n",
    "    steps = [\n",
    "        \"Welcome to SkillHigh!\",\n",
    "        \"I'm SkillBot, your guide to courses and internships.\",\n",
    "        \"You can ask me about course details, fees, internships, certifications, or deadlines.\",\n",
    "        \"Let's get started! What would you like to know?\"\n",
    "    ]\n",
    "    for step in steps:\n",
    "        print(step)\n",
    "# Run onboarding flow\n",
    "onboarding_flow()"
   ]
  },
  {
   "cell_type": "markdown",
   "id": "0a2b4597",
   "metadata": {},
   "source": [
    "## 7. Answer FAQs and Handle Small Talk\n",
    "Add logic to answer common FAQs (course details, fees, internships, certifications, deadlines) and handle small talk (e.g., greetings, thanks)."
   ]
  },
  {
   "cell_type": "code",
   "execution_count": null,
   "id": "5aa162c3",
   "metadata": {},
   "outputs": [],
   "source": [
    "# Example: FAQ and small talk handling\n",
    "queries = [\n",
    "    \"What courses are available?\",\n",
    "    \"How much is the fee?\",\n",
    "    \"Tell me about internships.\",\n",
    "    \"Do you offer certification?\",\n",
    "    \"When is the application deadline?\",\n",
    "    \"Hi\",\n",
    "    \"Thank you\"\n",
    "    ]\n",
    "for q in queries:\n",
    "    print(f\"User: {q}\")\n",
    "    print(f\"SkillBot: {generate_response(q)}\\n\")"
   ]
  },
  {
   "cell_type": "markdown",
   "id": "11b91177",
   "metadata": {},
   "source": [
    "## 8. Session Context and Sentiment Analysis (Optional)\n",
    "Implement session-based contextual memory and sentiment analysis for empathetic responses."
   ]
  },
  {
   "cell_type": "code",
   "execution_count": null,
   "id": "efcb632c",
   "metadata": {},
   "outputs": [],
   "source": [
    "# Contextual memory and sentiment analysis demo\n",
    "chat_history = []\n",
    "def contextual_response(query):\n",
    "    chat_history.append(query)\n",
    "    sentiment = TextBlob(query).sentiment.polarity\n",
    "    base_response = generate_response(query)\n",
    "    if sentiment > 0.2:\n",
    "        return base_response + \" 😊\"\n",
    "    elif sentiment < -0.2:\n",
    "        return base_response + \" If you need help, let me know!\"\n",
    "    else:\n",
    "        return base_response\n",
    "# Example\n",
    "print(contextual_response('I am excited to join SkillHigh!'))\n",
    "print('Chat history:', chat_history)"
   ]
  },
  {
   "cell_type": "markdown",
   "id": "3476b08d",
   "metadata": {},
   "source": [
    "## 9. Multilingual Support (Optional)\n",
    "Add support for English and one regional language using translation APIs or multilingual models."
   ]
  },
  {
   "cell_type": "code",
   "execution_count": null,
   "id": "b3a4acee",
   "metadata": {},
   "outputs": [],
   "source": [
    "# Multilingual support demo (English/Hindi using dummy translation)\n",
    "def translate_to_hindi(text):\n",
    "    translations = {\n",
    "        \"Hi, I'm SkillBot, your course guide!\": \"नमस्ते, मैं स्किलबोट हूँ, आपका कोर्स गाइड!\",\n",
    "        \"You're welcome! How else can I help you?\": \"आपका स्वागत है! मैं और कैसे मदद कर सकता हूँ?\"\n",
    "    }\n",
    "    return translations.get(text, text)\n",
    "# Example\n",
    "response_en = generate_response('Hi')\n",
    "response_hi = translate_to_hindi(response_en)\n",
    "print('English:', response_en)\n",
    "print('Hindi:', response_hi)"
   ]
  },
  {
   "cell_type": "markdown",
   "id": "c2b3fd94",
   "metadata": {},
   "source": [
    "## 10. Expose Chatbot via API (Integration-ready)\n",
    "Set up a REST API endpoint using Flask to serve chatbot responses for integration into websites or LMS platforms."
   ]
  },
  {
   "cell_type": "code",
   "execution_count": null,
   "id": "25a7ea0a",
   "metadata": {},
   "outputs": [],
   "source": [
    "# Flask API example for chatbot integration\n",
    "from flask import Flask, request, jsonify\n",
    "app = Flask(__name__)\n",
    "@app.route('/chat', methods=['POST'])\n",
    "def chat():\n",
    "    data = request.get_json()\n",
    "    query = data.get('query', '')\n",
    "    response = generate_response(query)\n",
    "    return jsonify({'response': response})\n",
    "# To run: app.run(debug=True)"
   ]
  },
  {
   "cell_type": "markdown",
   "id": "94143daf",
   "metadata": {},
   "source": [
    "## 11. Demo: Chatbot Interaction in Notebook\n",
    "Provide a notebook-based demo interface for users to interact with the chatbot and view responses."
   ]
  },
  {
   "cell_type": "code",
   "execution_count": null,
   "id": "c2380cf8",
   "metadata": {},
   "outputs": [],
   "source": [
    "# Simple notebook-based chatbot interaction\n",
    "def notebook_chat():\n",
    "    print(\"Welcome to SkillHigh Chatbot! Type 'exit' to end.\")\n",
    "    while True:\n",
    "        user_input = input(\"You: \")\n",
    "        if user_input.lower() == 'exit':\n",
    "            print(\"Goodbye!\")\n",
    "            break\n",
    "        response = generate_response(user_input)\n",
    "        print(f\"SkillBot: {response}\")\n",
    "# Uncomment to run in interactive notebook\n",
    "# notebook_chat()"
   ]
  },
  {
   "cell_type": "markdown",
   "id": "f290321c",
   "metadata": {},
   "source": [
    "## 12. Usage Analytics Dashboard (Optional)\n",
    "Implement basic analytics to visualize chatbot usage stats, such as number of queries, intents detected, and user satisfaction."
   ]
  },
  {
   "cell_type": "code",
   "execution_count": null,
   "id": "c5bfef1b",
   "metadata": {},
   "outputs": [],
   "source": [
    "# Basic analytics: count queries and intents\n",
    "from collections import Counter\n",
    "sample_history = [\n",
    "    {'query': 'What courses are available?', 'intent': 'course details'},\n",
    "    {'query': 'How much is the fee?', 'intent': 'pricing'},\n",
    "    {'query': 'Tell me about internships.', 'intent': 'internship'},\n",
    "    {'query': 'Hi', 'intent': 'greeting'},\n",
    "    {'query': 'Thank you', 'intent': 'small talk'}\n",
    "    ]\n",
    "intent_counts = Counter([h['intent'] for h in sample_history])\n",
    "print('Intent counts:', intent_counts)"
   ]
  }
 ],
 "metadata": {
  "kernelspec": {
   "display_name": ".venv",
   "language": "python",
   "name": "python3"
  },
  "language_info": {
   "codemirror_mode": {
    "name": "ipython",
    "version": 3
   },
   "file_extension": ".py",
   "mimetype": "text/x-python",
   "name": "python",
   "nbconvert_exporter": "python",
   "pygments_lexer": "ipython3",
   "version": "3.13.7"
  }
 },
 "nbformat": 4,
 "nbformat_minor": 5
}
